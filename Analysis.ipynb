{
 "cells": [
  {
   "cell_type": "code",
   "execution_count": 1,
   "metadata": {},
   "outputs": [],
   "source": [
    "import pandas as pd\n",
    "import numpy as np\n",
    "import seaborn as sns\n",
    "import matplotlib.pyplot as plt\n",
    "import scipy.stats as stats\n",
    "from scipy.stats import ttest_ind\n",
    "from math import sqrt\n",
    "from scipy.stats import chisquare"
   ]
  },
  {
   "cell_type": "code",
   "execution_count": 2,
   "metadata": {},
   "outputs": [],
   "source": [
    "data = pd.read_csv(\"Data_Anon.csv\", engine='python')\n",
    "data['Year'] = pd.to_numeric(data['Year'])\n",
    "data['N_Participants'] = pd.to_numeric(data['N_Participants'])"
   ]
  },
  {
   "cell_type": "markdown",
   "metadata": {},
   "source": [
    "# 3.1 Descriptives\n",
    "\n",
    "Sample, Robots, Autonomy"
   ]
  },
  {
   "cell_type": "markdown",
   "metadata": {},
   "source": [
    "## Sample\n",
    "\n",
    "Number of papers."
   ]
  },
  {
   "cell_type": "code",
   "execution_count": 3,
   "metadata": {},
   "outputs": [
    {
     "name": "stdout",
     "output_type": "stream",
     "text": [
      "Total number of studies:  171\n"
     ]
    }
   ],
   "source": [
    "data_1row = data.drop_duplicates('Unique_ID') #create data frame with 1 row per paper\n",
    "print(\"Total number of studies: \", len(data_1row.index))"
   ]
  },
  {
   "cell_type": "code",
   "execution_count": 4,
   "metadata": {},
   "outputs": [
    {
     "name": "stdout",
     "output_type": "stream",
     "text": [
      "Total studies in 2010-2012:  58\n"
     ]
    }
   ],
   "source": [
    "# Create table of just data from years 2010-2012\n",
    "early_years = [2010,2011,2012]\n",
    "is_2010_12 =  data['Year'].isin(early_years)\n",
    "early_data = pd.DataFrame(data[is_2010_12])\n",
    "\n",
    "# Create table with just 1 row per paper\n",
    "early_1row = early_data.drop_duplicates('Unique_ID')\n",
    "print('Total studies in 2010-2012: ', len(early_1row))"
   ]
  },
  {
   "cell_type": "code",
   "execution_count": 5,
   "metadata": {},
   "outputs": [
    {
     "name": "stdout",
     "output_type": "stream",
     "text": [
      "Total studies in 2017-2019:  113\n"
     ]
    }
   ],
   "source": [
    "# Create table of just data from years 2017-2019\n",
    "late_years = [2017,2018,2019]\n",
    "is_2017_19 =  data['Year'].isin(late_years)\n",
    "late_data = pd.DataFrame(data[is_2017_19])\n",
    "\n",
    "# Create table with just 1 row per paper\n",
    "late_1row = late_data.drop_duplicates('Unique_ID')\n",
    "print('Total studies in 2017-2019: ', len(late_1row))"
   ]
  },
  {
   "cell_type": "markdown",
   "metadata": {},
   "source": [
    "## Robots\n",
    "\n",
    "Top 3 most frequently used robots."
   ]
  },
  {
   "cell_type": "code",
   "execution_count": 6,
   "metadata": {},
   "outputs": [
    {
     "name": "stdout",
     "output_type": "stream",
     "text": [
      "2010-2012\n"
     ]
    },
    {
     "data": {
      "text/plain": [
       "Not reported    7\n",
       "Robovie         4\n",
       "Simon           4\n",
       "Simulation      2\n",
       "Name: Robot, dtype: int64"
      ]
     },
     "execution_count": 6,
     "metadata": {},
     "output_type": "execute_result"
    }
   ],
   "source": [
    "print('2010-2012')\n",
    "early_1row['Robot'].value_counts()[0:4]"
   ]
  },
  {
   "cell_type": "code",
   "execution_count": 7,
   "metadata": {},
   "outputs": [
    {
     "name": "stdout",
     "output_type": "stream",
     "text": [
      "2017-2019\n"
     ]
    },
    {
     "data": {
      "text/plain": [
       "Nao             22\n",
       "Not reported     6\n",
       "PR2              3\n",
       "Furhat           3\n",
       "Name: Robot, dtype: int64"
      ]
     },
     "execution_count": 7,
     "metadata": {},
     "output_type": "execute_result"
    }
   ],
   "source": [
    "print('2017-2019')\n",
    "late_1row['Robot'].value_counts()[0:4]"
   ]
  },
  {
   "cell_type": "markdown",
   "metadata": {},
   "source": [
    "## Autonomy\n",
    "\n",
    "Number of papers reporting whether robot was autonomous or not."
   ]
  },
  {
   "cell_type": "code",
   "execution_count": 8,
   "metadata": {},
   "outputs": [
    {
     "name": "stdout",
     "output_type": "stream",
     "text": [
      "2010-2012\n"
     ]
    },
    {
     "data": {
      "text/plain": [
       "WoZ             29.310345\n",
       "Autonomous      29.310345\n",
       "Not reported    22.413793\n",
       "Mixed           10.344828\n",
       "Both             1.724138\n",
       "Name: Autonomy, dtype: float64"
      ]
     },
     "execution_count": 8,
     "metadata": {},
     "output_type": "execute_result"
    }
   ],
   "source": [
    "print('2010-2012')\n",
    "(early_1row['Autonomy'].value_counts()/len(early_1row))*100"
   ]
  },
  {
   "cell_type": "code",
   "execution_count": 9,
   "metadata": {},
   "outputs": [
    {
     "name": "stdout",
     "output_type": "stream",
     "text": [
      "2017-2019\n"
     ]
    },
    {
     "data": {
      "text/plain": [
       "Autonomous      37.168142\n",
       "WoZ             19.469027\n",
       "Not reported    17.699115\n",
       "Mixed            3.539823\n",
       "Name: Autonomy, dtype: float64"
      ]
     },
     "execution_count": 9,
     "metadata": {},
     "output_type": "execute_result"
    }
   ],
   "source": [
    "print('2017-2019')\n",
    "(late_1row['Autonomy'].value_counts()/len(late_1row))*100"
   ]
  },
  {
   "cell_type": "markdown",
   "metadata": {},
   "source": [
    "## Participant Populations"
   ]
  },
  {
   "cell_type": "code",
   "execution_count": 10,
   "metadata": {},
   "outputs": [
    {
     "name": "stdout",
     "output_type": "stream",
     "text": [
      "2010-2012\n"
     ]
    },
    {
     "data": {
      "text/plain": [
       "Students                                                    18\n",
       "Adults                                                      16\n",
       "Not reported                                                11\n",
       "Children                                                     3\n",
       "Adults & Students                                            3\n",
       "Older Adults                                                 2\n",
       "Young adults                                                 1\n",
       "Adults (AMT)                                                 1\n",
       "Adults (AMT & Mailing lists)                                 1\n",
       "Adults & Students (AMT, Craigslist, Uni recruiting site)     1\n",
       "Children & Adults                                            1\n",
       "Name: Sample, dtype: int64"
      ]
     },
     "execution_count": 10,
     "metadata": {},
     "output_type": "execute_result"
    }
   ],
   "source": [
    "print('2010-2012')\n",
    "early_1row['Sample'].value_counts()"
   ]
  },
  {
   "cell_type": "code",
   "execution_count": 11,
   "metadata": {},
   "outputs": [
    {
     "name": "stdout",
     "output_type": "stream",
     "text": [
      "2017-2019\n"
     ]
    },
    {
     "data": {
      "text/plain": [
       "Students                                                                         35\n",
       "Adults                                                                           15\n",
       "Not reported                                                                     15\n",
       "Adults (AMT)                                                                     14\n",
       "Adults & Students                                                                 8\n",
       "Children                                                                          7\n",
       "Adults (AMT US)                                                                   2\n",
       "Children (ave. 5.63 yrs) & Parents                                                1\n",
       "Children (5-10 yrs)                                                               1\n",
       "Clinicians and AMT users                                                          1\n",
       "Children/Young adults with ASD                                                    1\n",
       "Children (3-5 yrs)                                                                1\n",
       "Adults (CrowdFlower)                                                              1\n",
       "Adults (Craigslist)                                                               1\n",
       "Company employees                                                                 1\n",
       "Adults (Reddit, FB)                                                               1\n",
       "Adults & Children                                                                 1\n",
       "Adults (Fastask)                                                                  1\n",
       "Adults (CrowdFlower, AMT, FB, Reddit)                                             1\n",
       "Adults (CrowdFlower US)                                                           1\n",
       "Students from USA and Japan                                                       1\n",
       "Walt Disney Imagineering Advanced \\nDevelopment and Disney Research community     1\n",
       "Children/Young adults                                                             1\n",
       "Physical therapy patients (adults and children)                                   1\n",
       "Name: Sample, dtype: int64"
      ]
     },
     "execution_count": 11,
     "metadata": {},
     "output_type": "execute_result"
    }
   ],
   "source": [
    "print('2017-2019')\n",
    "late_1row['Sample'].value_counts()"
   ]
  },
  {
   "cell_type": "code",
   "execution_count": 12,
   "metadata": {},
   "outputs": [
    {
     "name": "stdout",
     "output_type": "stream",
     "text": [
      "Percentage of samples containing Students 2010-2012:  37.93103448275862\n",
      "Percentage of samples containing Students 2017-2019:  38.93805309734513\n"
     ]
    }
   ],
   "source": [
    "students=early_1row[early_1row.Sample.str.contains('Students',case=False)]\n",
    "print('Percentage of samples containing Students 2010-2012: ', (len(students['Unique_ID'].value_counts())/len(early_1row))*100)\n",
    "students=late_1row[late_1row.Sample.str.contains('Students',case=False)]\n",
    "print('Percentage of samples containing Students 2017-2019: ', (len(students['Unique_ID'].value_counts())/len(late_1row))*100)"
   ]
  },
  {
   "cell_type": "code",
   "execution_count": 13,
   "metadata": {},
   "outputs": [
    {
     "name": "stdout",
     "output_type": "stream",
     "text": [
      "Percentage of samples containing Adults 2010-2012:  44.827586206896555\n",
      "Percentage of samples containing Adults 2017-2019:  43.36283185840708\n"
     ]
    }
   ],
   "source": [
    "adults=early_1row[early_1row.Sample.str.contains('Adults',case=False)]\n",
    "print('Percentage of samples containing Adults 2010-2012: ', (len(adults['Unique_ID'].value_counts())/len(early_1row))*100)\n",
    "adults=late_1row[late_1row.Sample.str.contains('Adults',case=False)]\n",
    "print('Percentage of samples containing Adults 2017-2019: ', (len(adults['Unique_ID'].value_counts())/len(late_1row))*100)"
   ]
  },
  {
   "cell_type": "markdown",
   "metadata": {},
   "source": [
    "## Replication"
   ]
  },
  {
   "cell_type": "markdown",
   "metadata": {},
   "source": [
    "Number of papers that performed a replication study"
   ]
  },
  {
   "cell_type": "code",
   "execution_count": 14,
   "metadata": {},
   "outputs": [
    {
     "data": {
      "text/plain": [
       "Year  Replication\n",
       "2010  No             19\n",
       "2011  No             18\n",
       "2012  No             21\n",
       "2017  No             37\n",
       "2018  No             39\n",
       "      Extension       1\n",
       "2019  No             34\n",
       "      Paradigm        1\n",
       "      Yes             1\n",
       "Name: Replication, dtype: int64"
      ]
     },
     "execution_count": 14,
     "metadata": {},
     "output_type": "execute_result"
    }
   ],
   "source": [
    "data_1row.groupby('Year')['Replication'].value_counts()"
   ]
  },
  {
   "cell_type": "markdown",
   "metadata": {},
   "source": [
    "# 3.2 Power Analyses"
   ]
  },
  {
   "cell_type": "code",
   "execution_count": 15,
   "metadata": {},
   "outputs": [
    {
     "data": {
      "text/html": [
       "<div>\n",
       "<style scoped>\n",
       "    .dataframe tbody tr th:only-of-type {\n",
       "        vertical-align: middle;\n",
       "    }\n",
       "\n",
       "    .dataframe tbody tr th {\n",
       "        vertical-align: top;\n",
       "    }\n",
       "\n",
       "    .dataframe thead th {\n",
       "        text-align: right;\n",
       "    }\n",
       "</style>\n",
       "<table border=\"1\" class=\"dataframe\">\n",
       "  <thead>\n",
       "    <tr style=\"text-align: right;\">\n",
       "      <th></th>\n",
       "      <th>Not reported</th>\n",
       "      <th>Reported</th>\n",
       "    </tr>\n",
       "  </thead>\n",
       "  <tbody>\n",
       "    <tr>\n",
       "      <th>Overall</th>\n",
       "      <td>165</td>\n",
       "      <td>6</td>\n",
       "    </tr>\n",
       "    <tr>\n",
       "      <th>2010-2012</th>\n",
       "      <td>57</td>\n",
       "      <td>1</td>\n",
       "    </tr>\n",
       "    <tr>\n",
       "      <th>2017-2019</th>\n",
       "      <td>108</td>\n",
       "      <td>5</td>\n",
       "    </tr>\n",
       "  </tbody>\n",
       "</table>\n",
       "</div>"
      ],
      "text/plain": [
       "           Not reported  Reported\n",
       "Overall             165         6\n",
       "2010-2012            57         1\n",
       "2017-2019           108         5"
      ]
     },
     "execution_count": 15,
     "metadata": {},
     "output_type": "execute_result"
    }
   ],
   "source": [
    "Power_analyses = pd.DataFrame({'Not reported': [data_1row['Power_Analyses'].value_counts()[0],\n",
    "                                               early_1row['Power_Analyses'].value_counts()[0],\n",
    "                                               late_1row['Power_Analyses'].value_counts()[0]],\n",
    "                                'Reported': [data_1row['Power_Analyses'].value_counts()[1] + data_1row['Power_Analyses'].value_counts()[2],\n",
    "                                             early_1row['Power_Analyses'].value_counts()[1],\n",
    "                                             late_1row['Power_Analyses'].value_counts()[2] + late_1row['Power_Analyses'].value_counts()[1]]})\n",
    "\n",
    "Power_analyses.set_index([pd.Index(['Overall','2010-2012', '2017-2019'])])"
   ]
  },
  {
   "cell_type": "markdown",
   "metadata": {},
   "source": [
    "# 3.3 Effect Size"
   ]
  },
  {
   "cell_type": "code",
   "execution_count": 16,
   "metadata": {},
   "outputs": [
    {
     "name": "stdout",
     "output_type": "stream",
     "text": [
      "Number of tests where effect size should be reported.\n",
      "Total number of tests across all studies:  2303\n",
      "Total number of tests in 2010-12 studies:  801\n",
      "Total number of tests in 2017-19 studies:  1502\n"
     ]
    }
   ],
   "source": [
    "print(\"Number of tests where effect size should be reported.\")\n",
    "print(\"Total number of tests across all studies: \", data['Effect_size_report'].count())\n",
    "print(\"Total number of tests in 2010-12 studies: \", early_data['Effect_size_report'].count())\n",
    "print(\"Total number of tests in 2017-19 studies: \", late_data['Effect_size_report'].count())"
   ]
  },
  {
   "cell_type": "code",
   "execution_count": 17,
   "metadata": {},
   "outputs": [
    {
     "data": {
      "text/html": [
       "<div>\n",
       "<style scoped>\n",
       "    .dataframe tbody tr th:only-of-type {\n",
       "        vertical-align: middle;\n",
       "    }\n",
       "\n",
       "    .dataframe tbody tr th {\n",
       "        vertical-align: top;\n",
       "    }\n",
       "\n",
       "    .dataframe thead th {\n",
       "        text-align: right;\n",
       "    }\n",
       "</style>\n",
       "<table border=\"1\" class=\"dataframe\">\n",
       "  <thead>\n",
       "    <tr style=\"text-align: right;\">\n",
       "      <th></th>\n",
       "      <th>Not Reported</th>\n",
       "      <th>Reported</th>\n",
       "      <th>% Reported</th>\n",
       "    </tr>\n",
       "  </thead>\n",
       "  <tbody>\n",
       "    <tr>\n",
       "      <th>Overall</th>\n",
       "      <td>1845</td>\n",
       "      <td>458</td>\n",
       "      <td>19.887104</td>\n",
       "    </tr>\n",
       "    <tr>\n",
       "      <th>2010-2012</th>\n",
       "      <td>670</td>\n",
       "      <td>131</td>\n",
       "      <td>16.354557</td>\n",
       "    </tr>\n",
       "    <tr>\n",
       "      <th>2017-2019</th>\n",
       "      <td>1175</td>\n",
       "      <td>327</td>\n",
       "      <td>21.770972</td>\n",
       "    </tr>\n",
       "  </tbody>\n",
       "</table>\n",
       "</div>"
      ],
      "text/plain": [
       "           Not Reported  Reported  % Reported\n",
       "Overall            1845       458   19.887104\n",
       "2010-2012           670       131   16.354557\n",
       "2017-2019          1175       327   21.770972"
      ]
     },
     "execution_count": 17,
     "metadata": {},
     "output_type": "execute_result"
    }
   ],
   "source": [
    "All_noeffect = data['Effect_size_report'].str.contains('Not reported').value_counts()[True]\n",
    "All_effect = data['Effect_size_report'].str.contains('Not reported').value_counts()[False]\n",
    "Early_noeffect = early_data['Effect_size_report'].str.contains('Not reported').value_counts()[True]\n",
    "Early_effect = early_data['Effect_size_report'].str.contains('Not reported').value_counts()[False]\n",
    "Late_noeffect = late_data['Effect_size_report'].str.contains('Not reported').value_counts()[True]\n",
    "Late_effect = late_data['Effect_size_report'].str.contains('Not reported').value_counts()[False]\n",
    "\n",
    "Effect_size_report = pd.DataFrame({\"Not Reported\": [All_noeffect,\n",
    "                                                    Early_noeffect,\n",
    "                                                    Late_noeffect],\n",
    "                                   \"Reported\": [All_effect,\n",
    "                                                Early_effect,\n",
    "                                                Late_effect],\n",
    "                                   \"% Reported\": [(All_effect/data['Effect_size_report'].count())*100,\n",
    "                                                 (Early_effect/early_data['Effect_size_report'].count())*100,\n",
    "                                                 (Late_effect/late_data['Effect_size_report'].count())*100]})\n",
    "\n",
    "Effect_size_report.set_index([pd.Index(['Overall','2010-2012', '2017-2019'])])"
   ]
  },
  {
   "cell_type": "code",
   "execution_count": 18,
   "metadata": {},
   "outputs": [
    {
     "name": "stdout",
     "output_type": "stream",
     "text": [
      "Chi Squared =  9.282667346098952\n",
      "p =  0.002313323217501211\n",
      "DF =  1\n",
      "Cramer's phi =  0.06348767525505854\n"
     ]
    }
   ],
   "source": [
    "obs = np.array([[131, 327], [670, 1175]]).T\n",
    "chi2, p, dof, ex = stats.chi2_contingency(obs, correction=True, lambda_=None)\n",
    "\n",
    "def cramers_stat(confusion_matrix):\n",
    "    chi2 = stats.chi2_contingency(confusion_matrix)[0]\n",
    "    n = confusion_matrix.sum()\n",
    "    return np.sqrt(chi2 / (n*(min(confusion_matrix.shape)-1)))\n",
    "\n",
    "result = cramers_stat(obs)\n",
    "\n",
    "print(\"Chi Squared = \", chi2)\n",
    "print(\"p = \", p)\n",
    "print(\"DF = \", dof)\n",
    "print(\"Cramer's phi = \", result)"
   ]
  },
  {
   "cell_type": "markdown",
   "metadata": {},
   "source": [
    "**Number of studies reporting effect size at least once**"
   ]
  },
  {
   "cell_type": "code",
   "execution_count": 19,
   "metadata": {},
   "outputs": [],
   "source": [
    "data_all_eOnce=data[~data['Effect_size_report'].isin(['Not reported'])]\n",
    "data_all_eOnce = data_all_eOnce[pd.notnull(data_all_eOnce['Effect_size_report'])]\n",
    "data_all_eOnce_1row = data_all_eOnce.drop_duplicates('Unique_ID')\n",
    "\n",
    "data_early_eOnce=early_data[~early_data['Effect_size_report'].isin(['Not reported'])]\n",
    "data_early_eOnce = data_early_eOnce[pd.notnull(data_early_eOnce['Effect_size_report'])]\n",
    "data_early_eOnce_1row = data_early_eOnce.drop_duplicates('Unique_ID')\n",
    "\n",
    "data_late_eOnce=late_data[~late_data['Effect_size_report'].isin(['Not reported'])]\n",
    "data_late_eOnce = data_late_eOnce[pd.notnull(data_late_eOnce['Effect_size_report'])]\n",
    "data_late_eOnce_1row = data_late_eOnce.drop_duplicates('Unique_ID')"
   ]
  },
  {
   "cell_type": "code",
   "execution_count": 20,
   "metadata": {},
   "outputs": [
    {
     "data": {
      "text/html": [
       "<div>\n",
       "<style scoped>\n",
       "    .dataframe tbody tr th:only-of-type {\n",
       "        vertical-align: middle;\n",
       "    }\n",
       "\n",
       "    .dataframe tbody tr th {\n",
       "        vertical-align: top;\n",
       "    }\n",
       "\n",
       "    .dataframe thead th {\n",
       "        text-align: right;\n",
       "    }\n",
       "</style>\n",
       "<table border=\"1\" class=\"dataframe\">\n",
       "  <thead>\n",
       "    <tr style=\"text-align: right;\">\n",
       "      <th></th>\n",
       "      <th>Not Reported</th>\n",
       "      <th>Reported</th>\n",
       "      <th>% Reported</th>\n",
       "    </tr>\n",
       "  </thead>\n",
       "  <tbody>\n",
       "    <tr>\n",
       "      <th>Overall</th>\n",
       "      <td>122</td>\n",
       "      <td>49</td>\n",
       "      <td>28.654971</td>\n",
       "    </tr>\n",
       "    <tr>\n",
       "      <th>2010-2012</th>\n",
       "      <td>46</td>\n",
       "      <td>12</td>\n",
       "      <td>20.689655</td>\n",
       "    </tr>\n",
       "    <tr>\n",
       "      <th>2017-2019</th>\n",
       "      <td>76</td>\n",
       "      <td>37</td>\n",
       "      <td>32.743363</td>\n",
       "    </tr>\n",
       "  </tbody>\n",
       "</table>\n",
       "</div>"
      ],
      "text/plain": [
       "           Not Reported  Reported  % Reported\n",
       "Overall             122        49   28.654971\n",
       "2010-2012            46        12   20.689655\n",
       "2017-2019            76        37   32.743363"
      ]
     },
     "execution_count": 20,
     "metadata": {},
     "output_type": "execute_result"
    }
   ],
   "source": [
    "All_eOnce = len(data_all_eOnce_1row)\n",
    "All = len(data_1row)\n",
    "Early_eOnce = len(data_early_eOnce_1row)\n",
    "Early = len(early_1row)\n",
    "Late_eOnce = len(data_late_eOnce_1row)\n",
    "Late = len(late_1row)\n",
    "\n",
    "Effect_size_report = pd.DataFrame({\"Not Reported\": [(All - All_eOnce),\n",
    "                                                    (Early - Early_eOnce),\n",
    "                                                    (Late - Late_eOnce)],\n",
    "                                   \"Reported\": [All_eOnce,\n",
    "                                                Early_eOnce,\n",
    "                                                Late_eOnce],\n",
    "                                   \"% Reported\": [(All_eOnce/All)*100,\n",
    "                                                 (Early_eOnce/Early)*100,\n",
    "                                                 (Late_eOnce/Late)*100]})\n",
    "\n",
    "Effect_size_report.set_index([pd.Index(['Overall','2010-2012', '2017-2019'])])"
   ]
  },
  {
   "cell_type": "code",
   "execution_count": 21,
   "metadata": {},
   "outputs": [
    {
     "name": "stdout",
     "output_type": "stream",
     "text": [
      "Chi Squared =  2.16618606413936\n",
      "p =  0.14107573565246612\n",
      "DF =  1\n",
      "Cramer's phi =  0.11255112065656606\n"
     ]
    }
   ],
   "source": [
    "obs = np.array([[12, 37], [46, 76]]).T\n",
    "chi2, p, dof, ex = stats.chi2_contingency(obs, correction=True, lambda_=None)\n",
    "\n",
    "def cramers_stat(confusion_matrix):\n",
    "    chi2 = stats.chi2_contingency(confusion_matrix)[0]\n",
    "    n = confusion_matrix.sum()\n",
    "    return np.sqrt(chi2 / (n*(min(confusion_matrix.shape)-1)))\n",
    "\n",
    "result = cramers_stat(obs)\n",
    "\n",
    "print(\"Chi Squared = \", chi2)\n",
    "print(\"p = \", p)\n",
    "print(\"DF = \", dof)\n",
    "print(\"Cramer's phi = \", result)"
   ]
  },
  {
   "cell_type": "markdown",
   "metadata": {},
   "source": [
    "**Reporting Means and SDs so we can calculate Effect Size ourselves**"
   ]
  },
  {
   "cell_type": "code",
   "execution_count": 22,
   "metadata": {},
   "outputs": [
    {
     "data": {
      "text/html": [
       "<div>\n",
       "<style scoped>\n",
       "    .dataframe tbody tr th:only-of-type {\n",
       "        vertical-align: middle;\n",
       "    }\n",
       "\n",
       "    .dataframe tbody tr th {\n",
       "        vertical-align: top;\n",
       "    }\n",
       "\n",
       "    .dataframe thead th {\n",
       "        text-align: right;\n",
       "    }\n",
       "</style>\n",
       "<table border=\"1\" class=\"dataframe\">\n",
       "  <thead>\n",
       "    <tr style=\"text-align: right;\">\n",
       "      <th></th>\n",
       "      <th>Not Reported</th>\n",
       "      <th>Reported</th>\n",
       "      <th>% Reported</th>\n",
       "    </tr>\n",
       "  </thead>\n",
       "  <tbody>\n",
       "    <tr>\n",
       "      <th>Overall</th>\n",
       "      <td>89</td>\n",
       "      <td>49</td>\n",
       "      <td>28.654971</td>\n",
       "    </tr>\n",
       "    <tr>\n",
       "      <th>2010-2012</th>\n",
       "      <td>36</td>\n",
       "      <td>16</td>\n",
       "      <td>27.586207</td>\n",
       "    </tr>\n",
       "    <tr>\n",
       "      <th>2017-2019</th>\n",
       "      <td>53</td>\n",
       "      <td>33</td>\n",
       "      <td>29.203540</td>\n",
       "    </tr>\n",
       "  </tbody>\n",
       "</table>\n",
       "</div>"
      ],
      "text/plain": [
       "           Not Reported  Reported  % Reported\n",
       "Overall              89        49   28.654971\n",
       "2010-2012            36        16   27.586207\n",
       "2017-2019            53        33   29.203540"
      ]
     },
     "execution_count": 22,
     "metadata": {},
     "output_type": "execute_result"
    }
   ],
   "source": [
    "Mean_report = pd.DataFrame({\"Not Reported\": [data_1row['Mean_reported'].value_counts()[0],\n",
    "                                             early_1row['Mean_reported'].value_counts()[0],\n",
    "                                             late_1row['Mean_reported'].value_counts()[0]],\n",
    "                           \"Reported\": [data_1row['Mean_reported'].value_counts()[1],\n",
    "                                        early_1row['Mean_reported'].value_counts()[1],\n",
    "                                        late_1row['Mean_reported'].value_counts()[1]],\n",
    "                            \"% Reported\": [(data_1row['Mean_reported'].value_counts()[1]/len(data_1row))*100,\n",
    "                                           (early_1row['Mean_reported'].value_counts()[1]/len(early_1row))*100,\n",
    "                                           (late_1row['Mean_reported'].value_counts()[1]/len(late_1row))*100]})\n",
    "\n",
    "Mean_report.set_index([pd.Index(['Overall','2010-2012', '2017-2019'])])"
   ]
  },
  {
   "cell_type": "code",
   "execution_count": 23,
   "metadata": {},
   "outputs": [
    {
     "data": {
      "text/html": [
       "<div>\n",
       "<style scoped>\n",
       "    .dataframe tbody tr th:only-of-type {\n",
       "        vertical-align: middle;\n",
       "    }\n",
       "\n",
       "    .dataframe tbody tr th {\n",
       "        vertical-align: top;\n",
       "    }\n",
       "\n",
       "    .dataframe thead th {\n",
       "        text-align: right;\n",
       "    }\n",
       "</style>\n",
       "<table border=\"1\" class=\"dataframe\">\n",
       "  <thead>\n",
       "    <tr style=\"text-align: right;\">\n",
       "      <th></th>\n",
       "      <th>Not Reported</th>\n",
       "      <th>Reported</th>\n",
       "      <th>% Reported</th>\n",
       "    </tr>\n",
       "  </thead>\n",
       "  <tbody>\n",
       "    <tr>\n",
       "      <th>Overall</th>\n",
       "      <td>96</td>\n",
       "      <td>42</td>\n",
       "      <td>24.561404</td>\n",
       "    </tr>\n",
       "    <tr>\n",
       "      <th>2010-2012</th>\n",
       "      <td>39</td>\n",
       "      <td>13</td>\n",
       "      <td>22.413793</td>\n",
       "    </tr>\n",
       "    <tr>\n",
       "      <th>2017-2019</th>\n",
       "      <td>57</td>\n",
       "      <td>29</td>\n",
       "      <td>25.663717</td>\n",
       "    </tr>\n",
       "  </tbody>\n",
       "</table>\n",
       "</div>"
      ],
      "text/plain": [
       "           Not Reported  Reported  % Reported\n",
       "Overall              96        42   24.561404\n",
       "2010-2012            39        13   22.413793\n",
       "2017-2019            57        29   25.663717"
      ]
     },
     "execution_count": 23,
     "metadata": {},
     "output_type": "execute_result"
    }
   ],
   "source": [
    "Sd_report = pd.DataFrame({\"Not Reported\": [data_1row['SD_reported'].value_counts()[0],\n",
    "                                             early_1row['SD_reported'].value_counts()[0],\n",
    "                                             late_1row['SD_reported'].value_counts()[0]],\n",
    "                           \"Reported\": [data_1row['SD_reported'].value_counts()[1],\n",
    "                                        early_1row['SD_reported'].value_counts()[1],\n",
    "                                        late_1row['SD_reported'].value_counts()[1]],\n",
    "                            \"% Reported\": [(data_1row['SD_reported'].value_counts()[1]/len(data_1row))*100,\n",
    "                                           (early_1row['SD_reported'].value_counts()[1]/len(early_1row))*100,\n",
    "                                           (late_1row['SD_reported'].value_counts()[1]/len(late_1row))*100]})\n",
    "\n",
    "Sd_report.set_index([pd.Index(['Overall','2010-2012', '2017-2019'])])"
   ]
  },
  {
   "cell_type": "markdown",
   "metadata": {},
   "source": [
    "# 4 Discussion"
   ]
  },
  {
   "cell_type": "markdown",
   "metadata": {},
   "source": [
    "## Pre-registered studies\n",
    "\n",
    "Number of papers reporting pre-registering some aspect of their study."
   ]
  },
  {
   "cell_type": "code",
   "execution_count": 24,
   "metadata": {},
   "outputs": [
    {
     "data": {
      "text/plain": [
       "Year  Preregistered\n",
       "2010  Not reported     19\n",
       "2011  Not reported     18\n",
       "2012  Not reported     21\n",
       "2017  Not reported     37\n",
       "2018  Not reported     40\n",
       "2019  Not reported     35\n",
       "      Yes               1\n",
       "Name: Preregistered, dtype: int64"
      ]
     },
     "execution_count": 24,
     "metadata": {},
     "output_type": "execute_result"
    }
   ],
   "source": [
    "data_1row.groupby('Year')['Preregistered'].value_counts()"
   ]
  },
  {
   "cell_type": "markdown",
   "metadata": {},
   "source": [
    "## Open Source\n",
    "\n",
    "Number of papers reporting that their study materials are open-source, and provide links. <br>\n",
    "\n",
    "Providing data and materials for replication is recommended by Baxter et al., (2016)"
   ]
  },
  {
   "cell_type": "code",
   "execution_count": 25,
   "metadata": {},
   "outputs": [
    {
     "data": {
      "text/plain": [
       "Year  Opensource  \n",
       "2010  Not reported    19\n",
       "2011  Not reported    18\n",
       "2012  Not reported    21\n",
       "2017  Not reported    37\n",
       "2018  Not reported    40\n",
       "2019  Not reported    34\n",
       "      Yes              2\n",
       "Name: Opensource, dtype: int64"
      ]
     },
     "execution_count": 25,
     "metadata": {},
     "output_type": "execute_result"
    }
   ],
   "source": [
    "data_1row.groupby('Year')['Opensource'].value_counts()"
   ]
  },
  {
   "cell_type": "markdown",
   "metadata": {},
   "source": [
    "## Bayesian Statistics\n",
    "\n",
    "Number of papers which used Bayesian statistics in their analysis. <br>\n",
    "\n",
    "Using Bayesian statistics is recommended by Baxter et al., (2016)"
   ]
  },
  {
   "cell_type": "code",
   "execution_count": 26,
   "metadata": {},
   "outputs": [
    {
     "data": {
      "text/plain": [
       "201933    17\n",
       "Name: Unique_ID, dtype: int64"
      ]
     },
     "execution_count": 26,
     "metadata": {},
     "output_type": "execute_result"
    }
   ],
   "source": [
    "bayes=data[data.Test.str.contains('Bayesian',case=False)]\n",
    "bayes['Unique_ID'].value_counts()"
   ]
  }
 ],
 "metadata": {
  "kernelspec": {
   "display_name": "Python 3",
   "language": "python",
   "name": "python3"
  },
  "language_info": {
   "codemirror_mode": {
    "name": "ipython",
    "version": 3
   },
   "file_extension": ".py",
   "mimetype": "text/x-python",
   "name": "python",
   "nbconvert_exporter": "python",
   "pygments_lexer": "ipython3",
   "version": "3.7.5"
  }
 },
 "nbformat": 4,
 "nbformat_minor": 2
}
